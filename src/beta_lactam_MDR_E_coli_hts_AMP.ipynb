{
 "cells": [
  {
   "cell_type": "markdown",
   "id": "9097852f",
   "metadata": {
    "vscode": {
     "languageId": "raw"
    }
   },
   "source": [
    "# High-Throughput Screening of Antimicrobial Peptides Against Mutant Type Penicillin-Binding Proteins of Multidrug Resistant Escherichia coli"
   ]
  },
  {
   "cell_type": "raw",
   "id": "d407f37b",
   "metadata": {
    "vscode": {
     "languageId": "raw"
    }
   },
   "source": [
    "Author:         James Aaron Erang [1*]\n",
    "Collaborator:   Angela Wu [2]\n",
    "Supervisor:     Jerwin R. Undan [1,3]\n",
    "\n",
    "[1] Department of Biological Sciences\n",
    "    College of Science\n",
    "    Central Luzon State University\n",
    "    3120 Science City of Muñoz, Philippines\n",
    "[2] School of Life and Environmental Sciences\n",
    "    Faculty of Science, Engineering, and Built Environment\n",
    "    Deakin University Melbourne Burwood\n",
    "    3125 Victoria, Australia\n",
    "[3] Biotechnology and Analytical Laboratory,\n",
    "    Department of Biological Sciences\n",
    "    College of Science\n",
    "    Central Luzon State University\n",
    "    3120 Science City of Muñoz, Philippines\n"
   ]
  },
  {
   "cell_type": "markdown",
   "id": "5caaf8d2",
   "metadata": {},
   "source": [
    "## Preliminary Setup"
   ]
  },
  {
   "cell_type": "markdown",
   "id": "baf9e4d5",
   "metadata": {},
   "source": [
    "### Imports"
   ]
  },
  {
   "cell_type": "code",
   "execution_count": 6,
   "id": "c7821802",
   "metadata": {},
   "outputs": [],
   "source": [
    "import pandas as pd\n",
    "import matplotlib.pyplot as plt\n",
    "from PIL import Image\n",
    "from chembl_webresource_client.new_client import new_client\n",
    "from rcsbapi.search import search_attributes as attrs\n",
    "from rcsbapi.data import DataQuery as Query\n",
    "\n",
    "from utils.housekeeping import HouseKeeping\n",
    "from utils.visualization import reconstruct_mol\n",
    "from utils.calculation import calc_lipinski"
   ]
  },
  {
   "cell_type": "markdown",
   "id": "0c87601d",
   "metadata": {},
   "source": [
    "### House Keeping"
   ]
  },
  {
   "cell_type": "code",
   "execution_count": 2,
   "id": "9f02c762",
   "metadata": {},
   "outputs": [],
   "source": [
    "# where the mol figs will be stored\n",
    "PATHS: list[str] = [\n",
    "        \"../output\",\n",
    "        \"../output/chem_figs\",\n",
    "        \"../output/data\",\n",
    "        \"../output/data/AMP\",\n",
    "        \"../output/data/activities\",\n",
    "        \"../output/data/targets\"\n",
    "    ]\n",
    "hk = HouseKeeping(PATHS)"
   ]
  },
  {
   "cell_type": "code",
   "execution_count": 4,
   "id": "70a8769c",
   "metadata": {},
   "outputs": [],
   "source": [
    "for path_ in PATHS:\n",
    "    hk.create_output_dir(path_)"
   ]
  },
  {
   "cell_type": "code",
   "execution_count": 3,
   "id": "f73fc776",
   "metadata": {},
   "outputs": [],
   "source": [
    "# matplotlib font configuration\n",
    "plt.rcParams[\"font.family\"] = \"serif\"\n",
    "plt.rcParams[\"font.serif\"] = [\"Times New Roman\"]"
   ]
  },
  {
   "cell_type": "code",
   "execution_count": null,
   "id": "386b3971",
   "metadata": {},
   "outputs": [],
   "source": [
    "query = Query(\n",
    "    input_type=\"entries\",\n",
    "    input_ids=[\"4HHB\"],\n",
    "    return_data_list=[\"exptl.method\"]\n",
    ")\n"
   ]
  }
 ],
 "metadata": {
  "kernelspec": {
   "display_name": "bioinformatics_full",
   "language": "python",
   "name": "python3"
  },
  "language_info": {
   "codemirror_mode": {
    "name": "ipython",
    "version": 3
   },
   "file_extension": ".py",
   "mimetype": "text/x-python",
   "name": "python",
   "nbconvert_exporter": "python",
   "pygments_lexer": "ipython3",
   "version": "3.10.14"
  }
 },
 "nbformat": 4,
 "nbformat_minor": 5
}
